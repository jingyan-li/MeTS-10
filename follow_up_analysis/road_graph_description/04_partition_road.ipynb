{
 "cells": [
  {
   "cell_type": "code",
   "execution_count": 1,
   "metadata": {},
   "outputs": [],
   "source": [
    "import pandas as pd\n",
    "import numpy as np\n",
    "from pathlib import Path\n",
    "import geopandas as gpd\n",
    "from shapely import from_wkb\n",
    "import sys\n",
    "sys.path.append(\"../\")\n",
    "from construct_graph.spectral_equal_size_clustering import SpectralEqualSizeClustering\n",
    "import math\n",
    "\n",
    "import matplotlib.pyplot as plt"
   ]
  },
  {
   "cell_type": "code",
   "execution_count": 2,
   "metadata": {
    "pycharm": {
     "name": "#%%\n"
    }
   },
   "outputs": [],
   "source": [
    "data_folder = Path(\"/Users/aaaje/Documents/ETH_WORK/thesis/data/t4f2022\")\n",
    "\n",
    "city = \"melbourne\"\n",
    "\n",
    "# city_road_graph_folder = data_folder / \"road_graph\" / city\n",
    "road_filtered_file = data_folder / \"adj\" / city / \"road_filtered_with_id.parquet\"\n",
    "adj_file = data_folder / \"adj\" / city / \"adjacency_mat_filtered.csv\"\n",
    "\n",
    "EPSG = {\n",
    "    \"melbourne\": \"28355\",\n",
    "    \"madrid\": \"2062\",\n",
    "    \"london\": \"27700\"\n",
    "}"
   ]
  },
  {
   "cell_type": "code",
   "execution_count": 3,
   "metadata": {
    "pycharm": {
     "name": "#%%\n"
    }
   },
   "outputs": [],
   "source": [
    "# Load road information\n",
    "road = pd.read_parquet(road_filtered_file)\n",
    "road[\"geometry\"] = road[\"geometry\"].apply(lambda x:from_wkb(x))\n",
    "road = gpd.GeoDataFrame(road, geometry=road[\"geometry\"], crs=\"4326\")"
   ]
  },
  {
   "cell_type": "code",
   "execution_count": 4,
   "metadata": {
    "pycharm": {
     "name": "#%%\n"
    }
   },
   "outputs": [
    {
     "name": "stderr",
     "output_type": "stream",
     "text": [
      "/var/folders/ck/54lvx0lx09162my4wjpgkjz40000gp/T/ipykernel_32006/2568972883.py:3: UserWarning: Geometry is in a geographic CRS. Results from 'centroid' are likely incorrect. Use 'GeoSeries.to_crs()' to re-project geometries to a projected CRS before this operation.\n",
      "\n",
      "  centroid = np.array([[c.x, c.y] for c in road.centroid.to_crs(EPSG[city.split(\"_\")[0]])])\n",
      "/opt/miniconda3/envs/mets-10/lib/python3.10/site-packages/sklearn/cluster/_kmeans.py:870: FutureWarning: The default value of `n_init` will change from 10 to 'auto' in 1.4. Set the value of `n_init` explicitly to suppress the warning\n",
      "  warnings.warn(\n"
     ]
    },
    {
     "name": "stdout",
     "output_type": "stream",
     "text": [
      "[0 1 2 3 4 5 6]\n",
      "[90 30 50 32 40 52 56]\n"
     ]
    },
    {
     "data": {
      "text/plain": "<Axes: >"
     },
     "execution_count": 4,
     "metadata": {},
     "output_type": "execute_result"
    },
    {
     "data": {
      "text/plain": "<Figure size 640x480 with 1 Axes>",
      "image/png": "[encoded data removed]"
     },
     "metadata": {},
     "output_type": "display_data"
    }
   ],
   "source": [
    "# Partition road by KNN\n",
    "from sklearn import cluster\n",
    "centroid = np.array([[c.x, c.y] for c in road.centroid.to_crs(EPSG[city.split(\"_\")[0]])])\n",
    "km = cluster.KMeans(n_clusters=7)\n",
    "partition = km.fit(centroid)\n",
    "\n",
    "# Partition results\n",
    "l, c = np.unique(partition.labels_,return_counts=True)\n",
    "print(f\"{l}\\n{c}\")\n",
    "\n",
    "road[\"km_label\"] = partition.labels_\n",
    "road.plot(column=\"km_label\")"
   ]
  },
  {
   "cell_type": "code",
   "execution_count": 5,
   "metadata": {},
   "outputs": [],
   "source": [
    "def pure_dist():\n",
    "    from scipy.spatial.distance import cdist\n",
    "    dist_tr = cdist(centroid, centroid)\n",
    "    return dist_tr\n",
    "\n",
    "def by_adj_weight(delta=0.2):\n",
    "    with open(data_folder / \"adj\" / city / \"adjacency_mat_filtered.npy\",\"rb\") as f:\n",
    "        adj= np.load(f)\n",
    "    node_num = adj[:,:2].max()+1\n",
    "    dist_max = adj[:,-1].max()\n",
    "    delta = dist_max*(1+delta)\n",
    "    dist_tr = np.zeros((node_num,node_num))\n",
    "    np.fill_diagonal(dist_tr, sim_to_dist(0, delta=delta))\n",
    "    for i in range(adj.shape[0]):\n",
    "            dist_tr[adj[i,0],adj[i,1]] = sim_to_dist(adj[i,2], delta=delta)\n",
    "            dist_tr[adj[i,1],adj[i,0]] = sim_to_dist(adj[i,2], delta=delta)\n",
    "#     dist_tr = sim_to_dist(dist_tr)\n",
    "    return dist_tr\n",
    "\n",
    "def by_adj():\n",
    "    dist_tr = pd.read_csv(adj_file, header=None).values\n",
    "    dist_tr = sim_to_dist(dist_tr,0.01)\n",
    "    return dist_tr\n",
    "\n",
    "def sim_to_dist(dist_matrix, delta=1000):\n",
    "    return np.exp(- dist_matrix ** 2 / (2. * delta ** 2))"
   ]
  },
  {
   "cell_type": "code",
   "execution_count": 6,
   "metadata": {
    "pycharm": {
     "name": "#%%\n"
    }
   },
   "outputs": [
    {
     "name": "stderr",
     "output_type": "stream",
     "text": [
      "INFO:root:parameters of the cluster: nclusters: (7,) equity_fr: 0.9 nneighbours: 17\n",
      "INFO:root:ideal elements per cluster: [50, 50, 50, 50, 50, 50, 50]\n",
      "INFO:root:min-max range of elements: 45.0-55.00000000000001\n",
      "INFO:root:parameters of the cluster: nclusters: (7,) equity_fr: 0.9 nneighbours: 35\n",
      "INFO:root:ideal elements per cluster: [50, 50, 50, 50, 50, 50, 50]\n",
      "INFO:root:min-max range of elements: 45.0-55.00000000000001\n",
      "INFO:root:parameters of the cluster: nclusters: (7,) equity_fr: 0.9 nneighbours: 52\n",
      "INFO:root:ideal elements per cluster: [50, 50, 50, 50, 50, 50, 50]\n",
      "INFO:root:min-max range of elements: 45.0-55.00000000000001\n",
      "INFO:root:parameters of the cluster: nclusters: (7,) equity_fr: 0.9 nneighbours: 70\n",
      "INFO:root:ideal elements per cluster: [50, 50, 50, 50, 50, 50, 50]\n",
      "INFO:root:min-max range of elements: 45.0-55.00000000000001\n",
      "INFO:root:parameters of the cluster: nclusters: (7,) equity_fr: 0.9 nneighbours: 70\n",
      "INFO:root:ideal elements per cluster: [50, 50, 50, 50, 50, 50, 50]\n",
      "INFO:root:min-max range of elements: 45.0-55.00000000000001\n"
     ]
    },
    {
     "name": "stdout",
     "output_type": "stream",
     "text": [
      "[29857.14421973258, 26798.904336032865, 24491.301925570042, 22986.826923202207]\n",
      "Proper NEIGHBOR = 0.2\n",
      "[0 1 2 3 4 5 6]\n",
      "[45 56 32 49 56 62 50]\n"
     ]
    },
    {
     "data": {
      "text/plain": "<Axes: >"
     },
     "execution_count": 6,
     "metadata": {},
     "output_type": "execute_result"
    },
    {
     "data": {
      "text/plain": "<Figure size 640x480 with 1 Axes>",
      "image/png": "[encoded data removed]"
     },
     "metadata": {},
     "output_type": "display_data"
    }
   ],
   "source": [
    "# Partition by Spectral Equal Size\n",
    "EQUITY_FRACTION = 0.9 # a fraction that determines how equal in size the clusters must be\n",
    "NEIGHBORS = [0.05,0.1,.15,.2] # the number of neighbors per data point to be changed for equal size\n",
    "NSIZE = 50\n",
    "\n",
    "# Symmetric distance matrix\n",
    "dist_tr = pure_dist()\n",
    "\n",
    "# Get the cluster hyperparameters\n",
    "ncluster = int(math.floor(dist_tr.shape[0] / NSIZE))\n",
    "\n",
    "# GRID SEARCH\n",
    "disp = []\n",
    "for NEIGHBOR in NEIGHBORS:\n",
    "    clustering = SpectralEqualSizeClustering(nclusters=ncluster,\n",
    "                                             nneighbors=int(dist_tr.shape[0] * NEIGHBOR),\n",
    "                                             equity_fraction=EQUITY_FRACTION,\n",
    "                                             seed=1234)\n",
    "\n",
    "    labels = clustering.fit(dist_tr)\n",
    "    # TODO: Use adj as objective function (consider connectivity)\n",
    "    disp.append(clustering.total_cluster_dispersion)\n",
    "NEIGHBOR = NEIGHBORS[np.argmin(np.array(disp))]\n",
    "print(disp)\n",
    "print(f\"Proper NEIGHBOR = {NEIGHBOR}\")\n",
    "\n",
    "# Fit\n",
    "clustering = SpectralEqualSizeClustering(nclusters=ncluster,\n",
    "                                             nneighbors=int(dist_tr.shape[0] * NEIGHBOR),\n",
    "                                             equity_fraction=EQUITY_FRACTION,\n",
    "                                             seed=1234)\n",
    "\n",
    "labels = clustering.fit(dist_tr)\n",
    "    \n",
    "# Partition results\n",
    "l, c = np.unique(labels,return_counts=True)\n",
    "print(f\"{l}\\n{c}\")\n",
    "\n",
    "road[\"sp_label\"] = labels\n",
    "road.plot(column=\"sp_label\")"
   ]
  },
  {
   "cell_type": "code",
   "execution_count": 190,
   "metadata": {},
   "outputs": [
    {
     "data": {
      "text/html": [
       "<div>\n",
       "<style scoped>\n",
       "    .dataframe tbody tr th:only-of-type {\n",
       "        vertical-align: middle;\n",
       "    }\n",
       "\n",
       "    .dataframe tbody tr th {\n",
       "        vertical-align: top;\n",
       "    }\n",
       "\n",
       "    .dataframe thead th {\n",
       "        text-align: right;\n",
       "    }\n",
       "</style>\n",
       "<table border=\"1\" class=\"dataframe\">\n",
       "  <thead>\n",
       "    <tr style=\"text-align: right;\">\n",
       "      <th></th>\n",
       "      <th>u</th>\n",
       "      <th>v</th>\n",
       "      <th>osmid</th>\n",
       "      <th>speed_kph</th>\n",
       "      <th>maxspeed</th>\n",
       "      <th>highway</th>\n",
       "      <th>oneway</th>\n",
       "      <th>lanes</th>\n",
       "      <th>tunnel</th>\n",
       "      <th>length_meters</th>\n",
       "      <th>...</th>\n",
       "      <th>t</th>\n",
       "      <th>road_index</th>\n",
       "      <th>id_highway</th>\n",
       "      <th>name</th>\n",
       "      <th>geometry</th>\n",
       "      <th>id_name</th>\n",
       "      <th>id_lanes</th>\n",
       "      <th>id_maxspeed</th>\n",
       "      <th>km_label</th>\n",
       "      <th>sp_label</th>\n",
       "    </tr>\n",
       "  </thead>\n",
       "  <tbody>\n",
       "    <tr>\n",
       "      <th>0</th>\n",
       "      <td>99937</td>\n",
       "      <td>25470798</td>\n",
       "      <td>18769878</td>\n",
       "      <td>32.2</td>\n",
       "      <td>20 mph</td>\n",
       "      <td>trunk</td>\n",
       "      <td>True</td>\n",
       "      <td>3</td>\n",
       "      <td>nan</td>\n",
       "      <td>89.617</td>\n",
       "      <td>...</td>\n",
       "      <td>84</td>\n",
       "      <td>0</td>\n",
       "      <td>1</td>\n",
       "      <td>MaryleboneRoad</td>\n",
       "      <td>LINESTRING (-0.15202 51.52302, -0.15221 51.523...</td>\n",
       "      <td>8705351563198506287</td>\n",
       "      <td>3</td>\n",
       "      <td>20</td>\n",
       "      <td>1</td>\n",
       "      <td>11</td>\n",
       "    </tr>\n",
       "    <tr>\n",
       "      <th>1</th>\n",
       "      <td>102047</td>\n",
       "      <td>4706034993</td>\n",
       "      <td>8114019</td>\n",
       "      <td>32.2</td>\n",
       "      <td>20 mph</td>\n",
       "      <td>trunk</td>\n",
       "      <td>True</td>\n",
       "      <td>2</td>\n",
       "      <td>nan</td>\n",
       "      <td>143.178</td>\n",
       "      <td>...</td>\n",
       "      <td>85</td>\n",
       "      <td>1</td>\n",
       "      <td>1</td>\n",
       "      <td>EdgwareRoad</td>\n",
       "      <td>LINESTRING (-0.16071 51.51316, -0.16063 51.513...</td>\n",
       "      <td>3984855555459660334</td>\n",
       "      <td>2</td>\n",
       "      <td>20</td>\n",
       "      <td>1</td>\n",
       "      <td>11</td>\n",
       "    </tr>\n",
       "    <tr>\n",
       "      <th>2</th>\n",
       "      <td>102047</td>\n",
       "      <td>27503594</td>\n",
       "      <td>43407796</td>\n",
       "      <td>32.2</td>\n",
       "      <td>20 mph</td>\n",
       "      <td>primary</td>\n",
       "      <td>True</td>\n",
       "      <td>4</td>\n",
       "      <td>nan</td>\n",
       "      <td>58.022</td>\n",
       "      <td>...</td>\n",
       "      <td>93</td>\n",
       "      <td>2</td>\n",
       "      <td>2</td>\n",
       "      <td>BayswaterRoad</td>\n",
       "      <td>LINESTRING (-0.16071 51.51316, -0.16039 51.513...</td>\n",
       "      <td>5758949736977383531</td>\n",
       "      <td>4</td>\n",
       "      <td>20</td>\n",
       "      <td>1</td>\n",
       "      <td>11</td>\n",
       "    </tr>\n",
       "    <tr>\n",
       "      <th>3</th>\n",
       "      <td>102052</td>\n",
       "      <td>102057</td>\n",
       "      <td>[41517345, 808613233, 42709091]</td>\n",
       "      <td>32.2</td>\n",
       "      <td>20 mph</td>\n",
       "      <td>trunk</td>\n",
       "      <td>True</td>\n",
       "      <td>3</td>\n",
       "      <td>nan</td>\n",
       "      <td>130.939</td>\n",
       "      <td>...</td>\n",
       "      <td>87</td>\n",
       "      <td>3</td>\n",
       "      <td>1</td>\n",
       "      <td>CumberlandGate</td>\n",
       "      <td>LINESTRING (-0.15889 51.51260, -0.15912 51.512...</td>\n",
       "      <td>-3518910808041885797</td>\n",
       "      <td>3</td>\n",
       "      <td>20</td>\n",
       "      <td>1</td>\n",
       "      <td>11</td>\n",
       "    </tr>\n",
       "    <tr>\n",
       "      <th>4</th>\n",
       "      <td>102053</td>\n",
       "      <td>25471268</td>\n",
       "      <td>239011228</td>\n",
       "      <td>32.2</td>\n",
       "      <td>20 mph</td>\n",
       "      <td>trunk</td>\n",
       "      <td>True</td>\n",
       "      <td>4</td>\n",
       "      <td>nan</td>\n",
       "      <td>32.251</td>\n",
       "      <td>...</td>\n",
       "      <td>86</td>\n",
       "      <td>4</td>\n",
       "      <td>1</td>\n",
       "      <td>ParkLane</td>\n",
       "      <td>LINESTRING (-0.15818 51.51298, -0.15809 51.512...</td>\n",
       "      <td>-2212220094948102868</td>\n",
       "      <td>4</td>\n",
       "      <td>20</td>\n",
       "      <td>1</td>\n",
       "      <td>11</td>\n",
       "    </tr>\n",
       "  </tbody>\n",
       "</table>\n",
       "<p>5 rows × 23 columns</p>\n",
       "</div>"
      ],
      "text/plain": [
       "        u           v                            osmid  speed_kph maxspeed  \\\n",
       "0   99937    25470798                         18769878       32.2   20 mph   \n",
       "1  102047  4706034993                          8114019       32.2   20 mph   \n",
       "2  102047    27503594                         43407796       32.2   20 mph   \n",
       "3  102052      102057  [41517345, 808613233, 42709091]       32.2   20 mph   \n",
       "4  102053    25471268                        239011228       32.2   20 mph   \n",
       "\n",
       "   highway oneway lanes tunnel  length_meters  ...   t  road_index  \\\n",
       "0    trunk   True     3    nan         89.617  ...  84           0   \n",
       "1    trunk   True     2    nan        143.178  ...  85           1   \n",
       "2  primary   True     4    nan         58.022  ...  93           2   \n",
       "3    trunk   True     3    nan        130.939  ...  87           3   \n",
       "4    trunk   True     4    nan         32.251  ...  86           4   \n",
       "\n",
       "   id_highway            name  \\\n",
       "0           1  MaryleboneRoad   \n",
       "1           1     EdgwareRoad   \n",
       "2           2   BayswaterRoad   \n",
       "3           1  CumberlandGate   \n",
       "4           1        ParkLane   \n",
       "\n",
       "                                            geometry              id_name  \\\n",
       "0  LINESTRING (-0.15202 51.52302, -0.15221 51.523...  8705351563198506287   \n",
       "1  LINESTRING (-0.16071 51.51316, -0.16063 51.513...  3984855555459660334   \n",
       "2  LINESTRING (-0.16071 51.51316, -0.16039 51.513...  5758949736977383531   \n",
       "3  LINESTRING (-0.15889 51.51260, -0.15912 51.512... -3518910808041885797   \n",
       "4  LINESTRING (-0.15818 51.51298, -0.15809 51.512... -2212220094948102868   \n",
       "\n",
       "  id_lanes id_maxspeed  km_label  sp_label  \n",
       "0        3          20         1        11  \n",
       "1        2          20         1        11  \n",
       "2        4          20         1        11  \n",
       "3        3          20         1        11  \n",
       "4        4          20         1        11  \n",
       "\n",
       "[5 rows x 23 columns]"
      ]
     },
     "execution_count": 190,
     "metadata": {},
     "output_type": "execute_result"
    }
   ],
   "source": [
    "road.head()"
   ]
  },
  {
   "cell_type": "code",
   "execution_count": 7,
   "metadata": {},
   "outputs": [],
   "source": [
    "# save results\n",
    "road.to_parquet(road_filtered_file)"
   ]
  },
  {
   "cell_type": "code",
   "execution_count": 8,
   "metadata": {},
   "outputs": [],
   "source": [
    "ld = pd.read_parquet(\"/Users/aaaje/Documents/ETH_WORK/thesis/data/t4f2022/adj/melbourne/road_filtered_with_id.parquet\")"
   ]
  },
  {
   "cell_type": "code",
   "execution_count": 9,
   "metadata": {
    "pycharm": {
     "name": "#%%\n"
    }
   },
   "outputs": [
    {
     "data": {
      "text/plain": "          u           v                                         osmid  \\\n0  21578145   683094366  [484854832, 28119418, 1083073387, 775968519]   \n1  25635393  8568243422      [485049160, 4880010, 23034448, 23034447]   \n2  25635395    25635396               [485049163, 23229660, 23034437]   \n3  25635396  3510048622              [485049154, 485049155, 24608420]   \n4  25635400   248509179   [675058320, 390346763, 25822677, 257043664]   \n\n   speed_kph maxspeed   highway oneway            lanes tunnel  length_meters  \\\n0       80.0       80  motorway   True       ['4', '3']    nan       1827.578   \n1      100.0      100  motorway   True                3    nan       1307.194   \n2      100.0      100  motorway   True       ['4', '5']    nan        957.394   \n3      100.0      100  motorway   True                3    nan       1842.292   \n4      100.0      100  motorway   True  ['2', '4', '3']    nan       3776.382   \n\n   ... gkey_duplicate  id_lanes  id_maxspeed  road_index  id_highway  \\\n0  ...          False         4           80           0           0   \n1  ...          False         3          100           1           0   \n2  ...          False         5          100           2           0   \n3  ...          False         3          100           3           0   \n4  ...          False         4          100           4           0   \n\n                                         name  \\\n0                             WestGateFreeway   \n1                        MetropolitanRingRoad   \n2                        MetropolitanRingRoad   \n3  ['MetropolitanRingRoad','WesternRingRoad']   \n4                                 HumeFreeway   \n\n                                            geometry              id_name  \\\n0  b\"\\x01\\x02\\x00\\x00\\x00\\x19\\x00\\x00\\x00\\xfc\\xe8...  7436462973700073041   \n1  b'\\x01\\x02\\x00\\x00\\x00\\x07\\x00\\x00\\x00t9o\\xad@...  -484206589433458560   \n2  b'\\x01\\x02\\x00\\x00\\x00\\x05\\x00\\x00\\x00\\xd4\\xeb...  -484206589433458560   \n3  b\"\\x01\\x02\\x00\\x00\\x00\\x11\\x00\\x00\\x00=\\xe7\\xb...  1022683586519050414   \n4  b\"\\x01\\x02\\x00\\x00\\x00D\\x00\\x00\\x00\\xcc\\x1c\\xd...  1277494209110980998   \n\n  km_label  sp_label  \n0        6         6  \n1        3         2  \n2        3         2  \n3        3         2  \n4        3         2  \n\n[5 rows x 22 columns]",
      "text/html": "<div>\n<style scoped>\n    .dataframe tbody tr th:only-of-type {\n        vertical-align: middle;\n    }\n\n    .dataframe tbody tr th {\n        vertical-align: top;\n    }\n\n    .dataframe thead th {\n        text-align: right;\n    }\n</style>\n<table border=\"1\" class=\"dataframe\">\n  <thead>\n    <tr style=\"text-align: right;\">\n      <th></th>\n      <th>u</th>\n      <th>v</th>\n      <th>osmid</th>\n      <th>speed_kph</th>\n      <th>maxspeed</th>\n      <th>highway</th>\n      <th>oneway</th>\n      <th>lanes</th>\n      <th>tunnel</th>\n      <th>length_meters</th>\n      <th>...</th>\n      <th>gkey_duplicate</th>\n      <th>id_lanes</th>\n      <th>id_maxspeed</th>\n      <th>road_index</th>\n      <th>id_highway</th>\n      <th>name</th>\n      <th>geometry</th>\n      <th>id_name</th>\n      <th>km_label</th>\n      <th>sp_label</th>\n    </tr>\n  </thead>\n  <tbody>\n    <tr>\n      <th>0</th>\n      <td>21578145</td>\n      <td>683094366</td>\n      <td>[484854832, 28119418, 1083073387, 775968519]</td>\n      <td>80.0</td>\n      <td>80</td>\n      <td>motorway</td>\n      <td>True</td>\n      <td>['4', '3']</td>\n      <td>nan</td>\n      <td>1827.578</td>\n      <td>...</td>\n      <td>False</td>\n      <td>4</td>\n      <td>80</td>\n      <td>0</td>\n      <td>0</td>\n      <td>WestGateFreeway</td>\n      <td>b\"\\x01\\x02\\x00\\x00\\x00\\x19\\x00\\x00\\x00\\xfc\\xe8...</td>\n      <td>7436462973700073041</td>\n      <td>6</td>\n      <td>6</td>\n    </tr>\n    <tr>\n      <th>1</th>\n      <td>25635393</td>\n      <td>8568243422</td>\n      <td>[485049160, 4880010, 23034448, 23034447]</td>\n      <td>100.0</td>\n      <td>100</td>\n      <td>motorway</td>\n      <td>True</td>\n      <td>3</td>\n      <td>nan</td>\n      <td>1307.194</td>\n      <td>...</td>\n      <td>False</td>\n      <td>3</td>\n      <td>100</td>\n      <td>1</td>\n      <td>0</td>\n      <td>MetropolitanRingRoad</td>\n      <td>b'\\x01\\x02\\x00\\x00\\x00\\x07\\x00\\x00\\x00t9o\\xad@...</td>\n      <td>-484206589433458560</td>\n      <td>3</td>\n      <td>2</td>\n    </tr>\n    <tr>\n      <th>2</th>\n      <td>25635395</td>\n      <td>25635396</td>\n      <td>[485049163, 23229660, 23034437]</td>\n      <td>100.0</td>\n      <td>100</td>\n      <td>motorway</td>\n      <td>True</td>\n      <td>['4', '5']</td>\n      <td>nan</td>\n      <td>957.394</td>\n      <td>...</td>\n      <td>False</td>\n      <td>5</td>\n      <td>100</td>\n      <td>2</td>\n      <td>0</td>\n      <td>MetropolitanRingRoad</td>\n      <td>b'\\x01\\x02\\x00\\x00\\x00\\x05\\x00\\x00\\x00\\xd4\\xeb...</td>\n      <td>-484206589433458560</td>\n      <td>3</td>\n      <td>2</td>\n    </tr>\n    <tr>\n      <th>3</th>\n      <td>25635396</td>\n      <td>3510048622</td>\n      <td>[485049154, 485049155, 24608420]</td>\n      <td>100.0</td>\n      <td>100</td>\n      <td>motorway</td>\n      <td>True</td>\n      <td>3</td>\n      <td>nan</td>\n      <td>1842.292</td>\n      <td>...</td>\n      <td>False</td>\n      <td>3</td>\n      <td>100</td>\n      <td>3</td>\n      <td>0</td>\n      <td>['MetropolitanRingRoad','WesternRingRoad']</td>\n      <td>b\"\\x01\\x02\\x00\\x00\\x00\\x11\\x00\\x00\\x00=\\xe7\\xb...</td>\n      <td>1022683586519050414</td>\n      <td>3</td>\n      <td>2</td>\n    </tr>\n    <tr>\n      <th>4</th>\n      <td>25635400</td>\n      <td>248509179</td>\n      <td>[675058320, 390346763, 25822677, 257043664]</td>\n      <td>100.0</td>\n      <td>100</td>\n      <td>motorway</td>\n      <td>True</td>\n      <td>['2', '4', '3']</td>\n      <td>nan</td>\n      <td>3776.382</td>\n      <td>...</td>\n      <td>False</td>\n      <td>4</td>\n      <td>100</td>\n      <td>4</td>\n      <td>0</td>\n      <td>HumeFreeway</td>\n      <td>b\"\\x01\\x02\\x00\\x00\\x00D\\x00\\x00\\x00\\xcc\\x1c\\xd...</td>\n      <td>1277494209110980998</td>\n      <td>3</td>\n      <td>2</td>\n    </tr>\n  </tbody>\n</table>\n<p>5 rows × 22 columns</p>\n</div>"
     },
     "execution_count": 9,
     "metadata": {},
     "output_type": "execute_result"
    }
   ],
   "source": [
    "ld.head()"
   ]
  },
  {
   "cell_type": "code",
   "execution_count": null,
   "metadata": {
    "pycharm": {
     "name": "#%%\n"
    }
   },
   "outputs": [],
   "source": []
  }
 ],
 "metadata": {
  "kernelspec": {
   "display_name": "Python 3 (ipykernel)",
   "language": "python",
   "name": "python3"
  },
  "language_info": {
   "codemirror_mode": {
    "name": "ipython",
    "version": 3
   },
   "file_extension": ".py",
   "mimetype": "text/x-python",
   "name": "python",
   "nbconvert_exporter": "python",
   "pygments_lexer": "ipython3",
   "version": "3.10.10"
  }
 },
 "nbformat": 4,
 "nbformat_minor": 1
}